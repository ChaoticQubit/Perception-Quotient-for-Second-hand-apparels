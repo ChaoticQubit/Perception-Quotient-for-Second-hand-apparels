{
 "cells": [
  {
   "cell_type": "markdown",
   "metadata": {},
   "source": [
    "# Rent_The_Runway Batch Generation"
   ]
  },
  {
   "cell_type": "code",
   "execution_count": 49,
   "metadata": {},
   "outputs": [],
   "source": [
    "import pandas as pd\n",
    "import numpy as np\n",
    "import math"
   ]
  },
  {
   "cell_type": "code",
   "execution_count": 50,
   "metadata": {},
   "outputs": [],
   "source": [
    "df = pd.read_csv('RentTheRunway Product Links.csv')"
   ]
  },
  {
   "cell_type": "code",
   "execution_count": 51,
   "metadata": {},
   "outputs": [],
   "source": [
    "for i in range(math.ceil(len(df)/200)):\n",
    "    heady = df.head(200)\n",
    "    batch_file = 'Scrape Batches/RentTheRunway/Part' + str(i) + '.csv'\n",
    "    heady.to_csv(batch_file, index=False)\n",
    "    cond = df['links_link'].isin(heady['links_link'])\n",
    "    df.drop(df[cond].index, inplace = True)"
   ]
  },
  {
   "cell_type": "markdown",
   "metadata": {},
   "source": [
    "# Nuuly Batch Generation"
   ]
  },
  {
   "cell_type": "code",
   "execution_count": 55,
   "metadata": {},
   "outputs": [],
   "source": [
    "df1 = pd.read_csv('Nuuly product Links.csv')"
   ]
  },
  {
   "cell_type": "code",
   "execution_count": 56,
   "metadata": {},
   "outputs": [],
   "source": [
    "for i in range(math.ceil(len(df1)/80)):\n",
    "    heady = df1.head(200)\n",
    "    batch_file = 'Scrape Batches/Nuuly/Part' + str(i) + '.csv'\n",
    "    heady.to_csv(batch_file, index=False)\n",
    "    cond = df1['links_link'].isin(heady['links_link'])\n",
    "    df1.drop(df1[cond].index, inplace = True)"
   ]
  },
  {
   "cell_type": "code",
   "execution_count": null,
   "metadata": {},
   "outputs": [],
   "source": []
  }
 ],
 "metadata": {
  "kernelspec": {
   "display_name": "Python 3",
   "language": "python",
   "name": "python3"
  },
  "language_info": {
   "codemirror_mode": {
    "name": "ipython",
    "version": 3
   },
   "file_extension": ".py",
   "mimetype": "text/x-python",
   "name": "python",
   "nbconvert_exporter": "python",
   "pygments_lexer": "ipython3",
   "version": "3.7.6"
  }
 },
 "nbformat": 4,
 "nbformat_minor": 4
}
